{
 "cells": [
  {
   "cell_type": "code",
   "execution_count": 1,
   "id": "5f7e9e14-0c7b-412d-82df-9768296ca72e",
   "metadata": {},
   "outputs": [],
   "source": [
    "import pandas as pd"
   ]
  },
  {
   "cell_type": "code",
   "execution_count": 5,
   "id": "0a043dd6-37a1-49f9-8cde-3542fa6fe05b",
   "metadata": {},
   "outputs": [],
   "source": [
    "df = pd.read_csv('../data_given/winequality.csv')\n",
    "df.describe().loc[['min','max']].to_json('schema_in_json')"
   ]
  },
  {
   "cell_type": "code",
   "execution_count": 8,
   "id": "01f9f879-a617-4c69-9d96-49ee94b036cd",
   "metadata": {},
   "outputs": [],
   "source": [
    "class NotInRange(Exception):\n",
    "    \n",
    "    def __init__(self, message= 'value not in range'):\n",
    "        self.message = message\n",
    "        super().__init__(self.message)"
   ]
  },
  {
   "cell_type": "code",
   "execution_count": 10,
   "id": "f5802d35-b95d-44bc-b28f-aa2babe4ff11",
   "metadata": {},
   "outputs": [],
   "source": [
    "# raise NotInRange"
   ]
  },
  {
   "cell_type": "code",
   "execution_count": null,
   "id": "c9d0608e-c59f-4060-821a-693cc55ef136",
   "metadata": {},
   "outputs": [],
   "source": []
  }
 ],
 "metadata": {
  "kernelspec": {
   "display_name": "Python 3 (ipykernel)",
   "language": "python",
   "name": "python3"
  },
  "language_info": {
   "codemirror_mode": {
    "name": "ipython",
    "version": 3
   },
   "file_extension": ".py",
   "mimetype": "text/x-python",
   "name": "python",
   "nbconvert_exporter": "python",
   "pygments_lexer": "ipython3",
   "version": "3.7.13"
  }
 },
 "nbformat": 4,
 "nbformat_minor": 5
}
